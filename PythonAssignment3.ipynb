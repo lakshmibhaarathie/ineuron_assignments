{
  "nbformat": 4,
  "nbformat_minor": 0,
  "metadata": {
    "colab": {
      "provenance": []
    },
    "kernelspec": {
      "name": "python3",
      "display_name": "Python 3"
    },
    "language_info": {
      "name": "python"
    }
  },
  "cells": [
    {
      "cell_type": "markdown",
      "source": [
        "1. **Why are functions advantageous to have in your programs?**\n",
        "   - Functions are advantageous because they promote code reuse, modularity, and readability. They allow you to break down complex tasks into smaller, manageable pieces, making your code more organized and easier to understand. Functions can be reused in different parts of the program, reducing redundancy and improving maintainability."
      ],
      "metadata": {
        "id": "HhVgX9OcEuUZ"
      }
    },
    {
      "cell_type": "markdown",
      "source": [
        "2. **When does the code in a function run: when it's specified or when it's called?**\n",
        "   - The code within a function runs when the function is called, not when it's specified. Functions are defined with a `def` statement, but their code executes only when the function is invoked or called."
      ],
      "metadata": {
        "id": "zR418m_aEyN4"
      }
    },
    {
      "cell_type": "markdown",
      "source": [
        "\n",
        "3. **What statement creates a function?**\n",
        "   - The `def` statement is used to create a function in Python. For example:\n",
        "   ```python\n",
        "   def my_function():\n",
        "       # Function code goes here\n",
        "   ```"
      ],
      "metadata": {
        "id": "EmBaW6cSFbt-"
      }
    },
    {
      "cell_type": "markdown",
      "source": [
        "4. **What is the difference between a function and a function call?**\n",
        "   - A function is a reusable block of code that performs a specific task. A function call is the act of executing that function to perform its task. Defining a function specifies what the function does, while calling a function actually makes it execute its code.\n"
      ],
      "metadata": {
        "id": "T8g4UPRyFbqt"
      }
    },
    {
      "cell_type": "markdown",
      "source": [
        "5. **How many global scopes are there in a Python program? How many local scopes?**\n",
        "   - There is one global scope in a Python program. Local scopes are created whenever a function is called. So, the number of local scopes depends on how many functions are called during the program's execution."
      ],
      "metadata": {
        "id": "1DXVCxpNFbnV"
      }
    },
    {
      "cell_type": "markdown",
      "source": [
        "6. **What happens to variables in a local scope when the function call returns?**\n",
        "   - When a function call returns, the local variables in that function's scope are destroyed. They go out of scope and cannot be accessed outside of the function.\n"
      ],
      "metadata": {
        "id": "YDgZ75uTFbk0"
      }
    },
    {
      "cell_type": "markdown",
      "source": [
        "7. **What is the concept of a return value? Is it possible to have a return value in an expression?**\n",
        "   - A return value is the value that a function returns after its execution. It can be any data type or object. Yes, return values can be used in expressions. For example, you can assign a function's return value to a variable and then use that variable in expressions.\n"
      ],
      "metadata": {
        "id": "iN2yRw2vFbhp"
      }
    },
    {
      "cell_type": "markdown",
      "source": [
        "\n",
        "8. **If a function does not have a return statement, what is the return value of a call to that function?**\n",
        "   - If a function does not have a return statement, or if it reaches the end of the function without encountering a return statement, the function implicitly returns `None`.\n"
      ],
      "metadata": {
        "id": "V9_jEtqpFbev"
      }
    },
    {
      "cell_type": "markdown",
      "source": [
        "9. **How do you make a function variable refer to the global variable?**\n",
        "   - To make a function variable refer to the global variable, you can use the `global` keyword inside the function. For example:\n",
        "   ```Python\n",
        "   global_variable = 10\n",
        "\n",
        "   def my_function():\n",
        "       global global_variable\n",
        "       # Now 'global_variable' refers to the global variable\n",
        "   \n",
        "   ```\n"
      ],
      "metadata": {
        "id": "qUOGkdCiFbbO"
      }
    },
    {
      "cell_type": "markdown",
      "source": [
        "\n",
        "10. **What is the data type of None?**\n",
        "    - `None` is a special constant in Python that represents the absence of a value or a null value. It has its own data type, which is `NoneType`.\n"
      ],
      "metadata": {
        "id": "kPN5KPraFa8y"
      }
    },
    {
      "cell_type": "markdown",
      "source": [
        "\n",
        "11. **What does the sentence `import areallyourpetsnamederic` do?**\n",
        "    - This statement imports a module named `areallyourpetsnamederic`. If such a module exists, it can be used in the program to access its functions, classes, or variables.\n"
      ],
      "metadata": {
        "id": "bVGN_W0PH8R1"
      }
    },
    {
      "cell_type": "markdown",
      "source": [
        "\n",
        "12. **If you had a `bacon()` function in a `spam` module, what would you call it after importing `spam`?**\n",
        "    - After importing `spam`, you can call the `bacon()` function using the following syntax:\n",
        "    ```python\n",
        "    import spam\n",
        "\n",
        "    spam.bacon()\n",
        "    ```\n"
      ],
      "metadata": {
        "id": "7gzd8PkfH-R9"
      }
    },
    {
      "cell_type": "markdown",
      "source": [
        "\n",
        "13. **What can you do to save a program from crashing if it encounters an error?**\n",
        "    - You can use exception handling techniques like `try`, `except`, `finally` blocks to catch and handle errors gracefully. By using these blocks, you can handle exceptions without crashing the program, allowing it to continue running and handle errors appropriately.\n"
      ],
      "metadata": {
        "id": "m41h0NM2ICKV"
      }
    },
    {
      "cell_type": "markdown",
      "source": [
        "\n",
        "14. **What is the purpose of the `try` clause? What is the purpose of the `except` clause?**\n",
        "    - The `try` clause is used to enclose the code that might raise an exception. If an exception occurs within the `try` block, it is caught by the `except` block. The `except` clause specifies the type of exception to catch and the code to execute when that specific exception occurs. It allows you to handle exceptions and prevent the program from crashing due to errors."
      ],
      "metadata": {
        "id": "ju-SP0brIIj7"
      }
    },
    {
      "cell_type": "code",
      "execution_count": null,
      "metadata": {
        "id": "UuM70XYLEsH8"
      },
      "outputs": [],
      "source": []
    }
  ]
}